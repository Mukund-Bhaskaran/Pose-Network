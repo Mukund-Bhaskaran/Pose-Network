{
  "nbformat": 4,
  "nbformat_minor": 0,
  "metadata": {
    "colab": {
      "name": "expleo dec 17.ipynb",
      "provenance": [],
      "collapsed_sections": [],
      "include_colab_link": true
    },
    "kernelspec": {
      "name": "python3",
      "display_name": "Python 3"
    },
    "language_info": {
      "name": "python"
    }
  },
  "cells": [
    {
      "cell_type": "markdown",
      "metadata": {
        "id": "view-in-github",
        "colab_type": "text"
      },
      "source": [
        "<a href=\"https://colab.research.google.com/github/Mukund-Bhaskaran/Pose-Network/blob/main/expleo_dec_17.ipynb\" target=\"_parent\"><img src=\"https://colab.research.google.com/assets/colab-badge.svg\" alt=\"Open In Colab\"/></a>"
      ]
    },
    {
      "cell_type": "markdown",
      "source": [
        "What is op of\n",
        "\tfor i in range(1,10,3):\n",
        "\t\tprint(i)"
      ],
      "metadata": {
        "id": "3zbp2EMj7B4o"
      }
    },
    {
      "cell_type": "code",
      "source": [
        "for i in range(1,10,3):\n",
        "\t\tprint(i)"
      ],
      "metadata": {
        "colab": {
          "base_uri": "https://localhost:8080/"
        },
        "id": "fjQhMQqe7EFz",
        "outputId": "d8c8a1cf-2c74-49d3-9dd3-98a73469c0cf"
      },
      "execution_count": null,
      "outputs": [
        {
          "output_type": "stream",
          "name": "stdout",
          "text": [
            "1\n",
            "4\n",
            "7\n"
          ]
        }
      ]
    },
    {
      "cell_type": "markdown",
      "source": [
        "# Suppose, we want to separate the letters of the word \"human\" and add the letters as items of a list."
      ],
      "metadata": {
        "id": "U-aJtXHq7eXl"
      }
    },
    {
      "cell_type": "code",
      "source": [
        "a=\"human\"\n",
        "b=list(a)\n",
        "b"
      ],
      "metadata": {
        "id": "bSzdUNtKfiSB",
        "colab": {
          "base_uri": "https://localhost:8080/"
        },
        "outputId": "64f828ea-54f4-4f19-97ac-3e66d38d6b06"
      },
      "execution_count": null,
      "outputs": [
        {
          "output_type": "execute_result",
          "data": {
            "text/plain": [
              "['h', 'u', 'm', 'a', 'n']"
            ]
          },
          "metadata": {},
          "execution_count": 1
        }
      ]
    },
    {
      "cell_type": "code",
      "source": [
        "c=[i for i in a]\n",
        "c"
      ],
      "metadata": {
        "colab": {
          "base_uri": "https://localhost:8080/"
        },
        "id": "qjkpfZJd1Pk-",
        "outputId": "5c952c90-0e8e-463e-86d3-753ecab4c37d"
      },
      "execution_count": null,
      "outputs": [
        {
          "output_type": "execute_result",
          "data": {
            "text/plain": [
              "['h', 'u', 'm', 'a', 'n']"
            ]
          },
          "metadata": {},
          "execution_count": 2
        }
      ]
    },
    {
      "cell_type": "markdown",
      "source": [
        "# We want to test if christy takes fewer than 60 minutes to teach a lesson plan."
      ],
      "metadata": {
        "id": "Jf7JU4pyChcO"
      }
    },
    {
      "cell_type": "code",
      "source": [
        "H0:christy time taken>=60 minutes\n",
        "H1:christy time taken<60 minutes\n"
      ],
      "metadata": {
        "id": "eVcD3Hiv27_p"
      },
      "execution_count": null,
      "outputs": []
    },
    {
      "cell_type": "code",
      "source": [
        "students = {1: {'name': 'Steve', 'age': 25, 'marks': 60}, \n",
        " 2: {'name': 'Anil', 'age': 23, 'marks': 75}, \n",
        " 3: {'name': 'Asha', 'age': 20, 'marks': 70}}\n",
        "\n",
        "students[2]['name']\n"
      ],
      "metadata": {
        "colab": {
          "base_uri": "https://localhost:8080/",
          "height": 35
        },
        "id": "8HXniZOY3PE6",
        "outputId": "e407bfa9-18da-4bf6-e46b-f5bcca91b606"
      },
      "execution_count": null,
      "outputs": [
        {
          "output_type": "execute_result",
          "data": {
            "application/vnd.google.colaboratory.intrinsic+json": {
              "type": "string"
            },
            "text/plain": [
              "'Anil'"
            ]
          },
          "metadata": {},
          "execution_count": 3
        }
      ]
    },
    {
      "cell_type": "markdown",
      "source": [
        "# Store addition of elements of two list in one\n",
        "#\ta = [1, 2, 3]\n",
        "#\tb = [7, 8, 9]"
      ],
      "metadata": {
        "id": "y1BdUly3CyOz"
      }
    },
    {
      "cell_type": "code",
      "source": [
        "students = {1: {'name': 'Steve', 'age': 25, 'marks': 60}, \n",
        " 2: {'name': 'Anil', 'age': 23, 'marks': 75}, \n",
        " 3: {'name': 'Asha', 'age': 20, 'marks': 70}}\n",
        "\n",
        "students[2]['name']\n"
      ],
      "metadata": {
        "colab": {
          "base_uri": "https://localhost:8080/",
          "height": 35
        },
        "outputId": "e407bfa9-18da-4bf6-e46b-f5bcca91b606",
        "id": "U5aw7MEMWWnL"
      },
      "execution_count": null,
      "outputs": [
        {
          "output_type": "execute_result",
          "data": {
            "application/vnd.google.colaboratory.intrinsic+json": {
              "type": "string"
            },
            "text/plain": [
              "'Anil'"
            ]
          },
          "metadata": {},
          "execution_count": 3
        }
      ]
    },
    {
      "cell_type": "code",
      "source": [
        "a=[1,2,3]\n",
        "b=[7,8,9]\n",
        "c=[]\n",
        "c=[i+j for i,j in zip(a,b)]\n",
        "c"
      ],
      "metadata": {
        "colab": {
          "base_uri": "https://localhost:8080/"
        },
        "id": "P_OTn6573vrh",
        "outputId": "e41720af-59ae-4e69-8548-54fb639020a7"
      },
      "execution_count": null,
      "outputs": [
        {
          "output_type": "execute_result",
          "data": {
            "text/plain": [
              "[8, 10, 12]"
            ]
          },
          "metadata": {},
          "execution_count": 3
        }
      ]
    },
    {
      "cell_type": "code",
      "source": [
        "list(map(lambda x,y:x+y,a,b))"
      ],
      "metadata": {
        "colab": {
          "base_uri": "https://localhost:8080/"
        },
        "id": "-s7u15kkC6hv",
        "outputId": "141f0293-d73d-490b-cf5a-bf380572ab79"
      },
      "execution_count": null,
      "outputs": [
        {
          "output_type": "execute_result",
          "data": {
            "text/plain": [
              "[8, 10, 12]"
            ]
          },
          "metadata": {},
          "execution_count": 5
        }
      ]
    },
    {
      "cell_type": "markdown",
      "source": [
        "# We want to test if college students take less than five years to graduate from college, on the average."
      ],
      "metadata": {
        "id": "YtzAZEs-ECUf"
      }
    },
    {
      "cell_type": "markdown",
      "source": [
        "# H0:mu>=5years\n",
        "# H1:mu<5years"
      ],
      "metadata": {
        "id": "Hd8QBVQAEKEB"
      }
    },
    {
      "cell_type": "markdown",
      "source": [
        "# capitals = {\"USA\":\"Washington D.C.\", \"France\":\"Paris\", \"India\":\"New Delhi\"}\n",
        "#\tHow can we access Dictionary Using For Loop\n"
      ],
      "metadata": {
        "id": "EyrzXnrjEVaH"
      }
    },
    {
      "cell_type": "code",
      "source": [
        "capitals = {\"USA\":\"Washington D.C.\", \"France\":\"Paris\", \"India\":\"New Delhi\"}\n",
        "for k in capitals.items():\n",
        "  print(\"key\",k[0])\n",
        "  print(\"value\",k[1])"
      ],
      "metadata": {
        "colab": {
          "base_uri": "https://localhost:8080/"
        },
        "id": "uQ8okapfFI1K",
        "outputId": "f3f4b9ab-e91b-4eb4-fbea-93450d9dc3d0"
      },
      "execution_count": null,
      "outputs": [
        {
          "output_type": "stream",
          "name": "stdout",
          "text": [
            "key USA\n",
            "value Washington D.C.\n",
            "key France\n",
            "value Paris\n",
            "key India\n",
            "value New Delhi\n"
          ]
        }
      ]
    },
    {
      "cell_type": "markdown",
      "source": [
        "# how you will extract only keys?"
      ],
      "metadata": {
        "id": "he2mjCKKEtzD"
      }
    },
    {
      "cell_type": "code",
      "source": [
        "\n",
        "for k in capitals:\n",
        "  print(\"key\",k)\n",
        "  "
      ],
      "metadata": {
        "colab": {
          "base_uri": "https://localhost:8080/"
        },
        "id": "4HWllQl77Zzl",
        "outputId": "ff35d3da-8f89-423a-b77a-efad134fbd5c"
      },
      "execution_count": null,
      "outputs": [
        {
          "output_type": "stream",
          "name": "stdout",
          "text": [
            "key USA\n",
            "key France\n",
            "key India\n"
          ]
        }
      ]
    },
    {
      "cell_type": "markdown",
      "source": [
        "# Create a list which contain numbers divisible by 3 in range(1-20)"
      ],
      "metadata": {
        "id": "EM1TMxSiFpRT"
      }
    },
    {
      "cell_type": "code",
      "source": [
        "l=[i for i in range(1,20) if i%3==0]\n",
        "l"
      ],
      "metadata": {
        "colab": {
          "base_uri": "https://localhost:8080/"
        },
        "id": "bCgZ2ErdFyFH",
        "outputId": "9e35f201-f8fa-40e0-986a-d826c843b977"
      },
      "execution_count": null,
      "outputs": [
        {
          "output_type": "execute_result",
          "data": {
            "text/plain": [
              "[3, 6, 9, 12, 15, 18]"
            ]
          },
          "metadata": {},
          "execution_count": 9
        }
      ]
    },
    {
      "cell_type": "markdown",
      "source": [
        "# A medical trial is conducted to test whether or not a new medicine reduces cholesterol by 25%. State the null and alternative hypotheses."
      ],
      "metadata": {
        "id": "Tl7ZWOPJGh3O"
      }
    },
    {
      "cell_type": "markdown",
      "source": [
        "# H0:proportion>=25%\n",
        "# H1:proportion<25%"
      ],
      "metadata": {
        "id": "wKv6NB-pGolg"
      }
    },
    {
      "cell_type": "markdown",
      "source": [
        "# lst=[\"Pune\",\"Mumbai\"]\n",
        "#\tlst1=[\"x\",\"y\",\"z\"]\n",
        "\t\n",
        "#\tHow can we get output like \n",
        "#\t['Pune', 'Mumbai', ['x', 'y', 'z']]"
      ],
      "metadata": {
        "id": "Qz8_z0z3G5o1"
      }
    },
    {
      "cell_type": "code",
      "source": [
        "lst=[\"Pune\",\"Mumbai\"]\n",
        "lst1=[\"x\",\"y\",\"z\"]\n",
        "lst.append(lst1)\n",
        "lst\t"
      ],
      "metadata": {
        "colab": {
          "base_uri": "https://localhost:8080/"
        },
        "id": "NHkdCaI1G95z",
        "outputId": "6c087891-0a14-494c-a1cb-47e2abc15711"
      },
      "execution_count": null,
      "outputs": [
        {
          "output_type": "execute_result",
          "data": {
            "text/plain": [
              "['Pune', 'Mumbai', ['x', 'y', 'z']]"
            ]
          },
          "metadata": {},
          "execution_count": 12
        }
      ]
    },
    {
      "cell_type": "markdown",
      "source": [
        "# Find Even and Odd numbers in the range(1-10)"
      ],
      "metadata": {
        "id": "PqGa4gwkHWBk"
      }
    },
    {
      "cell_type": "code",
      "source": [
        "for i in range(1,10):\n",
        "  if(i%2==0):\n",
        "    print(\"Even number\",i)\n",
        "  else:\n",
        "    print(\"odd number\",i)  "
      ],
      "metadata": {
        "colab": {
          "base_uri": "https://localhost:8080/"
        },
        "id": "oEie3gQbHj14",
        "outputId": "3c867db5-5fb9-4341-a7a4-6e197096d002"
      },
      "execution_count": null,
      "outputs": [
        {
          "output_type": "stream",
          "name": "stdout",
          "text": [
            "odd number 1\n",
            "Even number 2\n",
            "odd number 3\n",
            "Even number 4\n",
            "odd number 5\n",
            "Even number 6\n",
            "odd number 7\n",
            "Even number 8\n",
            "odd number 9\n"
          ]
        }
      ]
    },
    {
      "cell_type": "markdown",
      "source": [
        "# How can we get square of list : my_list = [2, 3, 5, 7, 11]"
      ],
      "metadata": {
        "id": "Rp_HtPnbIFcb"
      }
    },
    {
      "cell_type": "code",
      "source": [
        "lst=[2,3,5,7,11]\n",
        "c=[x*x for x in lst]\n",
        "c"
      ],
      "metadata": {
        "colab": {
          "base_uri": "https://localhost:8080/"
        },
        "id": "evhPsqSPIN9x",
        "outputId": "96c3fae2-6bd6-4234-ffb9-77dc10656800"
      },
      "execution_count": null,
      "outputs": [
        {
          "output_type": "execute_result",
          "data": {
            "text/plain": [
              "[4, 9, 25, 49, 121]"
            ]
          },
          "metadata": {},
          "execution_count": 2
        }
      ]
    },
    {
      "cell_type": "code",
      "source": [
        "list(map(lambda x:x*x,lst))"
      ],
      "metadata": {
        "colab": {
          "base_uri": "https://localhost:8080/"
        },
        "id": "hibluExHUqaI",
        "outputId": "d01948c6-b78c-4c57-81d5-dd1463a728e8"
      },
      "execution_count": null,
      "outputs": [
        {
          "output_type": "execute_result",
          "data": {
            "text/plain": [
              "[4, 9, 25, 49, 121]"
            ]
          },
          "metadata": {},
          "execution_count": 3
        }
      ]
    },
    {
      "cell_type": "markdown",
      "source": [
        "# We want to test whether the mean height of eighth graders is 66 inches."
      ],
      "metadata": {
        "id": "AFPieiTxI9Mj"
      }
    },
    {
      "cell_type": "markdown",
      "source": [
        "# H0:mu=66inches\n",
        "# H1:mu != 66inches"
      ],
      "metadata": {
        "id": "dTd2Z700JFi7"
      }
    },
    {
      "cell_type": "markdown",
      "source": [
        "# str = \"Hello\"\n",
        "#\tstr[2:10:2] = ?"
      ],
      "metadata": {
        "id": "FfhqJUGqJRU_"
      }
    },
    {
      "cell_type": "code",
      "source": [
        "str = \"Hello\"\n",
        "str[2:10:2]"
      ],
      "metadata": {
        "colab": {
          "base_uri": "https://localhost:8080/",
          "height": 35
        },
        "id": "NgrQauKGJbDx",
        "outputId": "a38a18cc-2736-4835-87d1-7c0a5e107792"
      },
      "execution_count": null,
      "outputs": [
        {
          "output_type": "execute_result",
          "data": {
            "application/vnd.google.colaboratory.intrinsic+json": {
              "type": "string"
            },
            "text/plain": [
              "'lo'"
            ]
          },
          "metadata": {},
          "execution_count": 15
        }
      ]
    },
    {
      "cell_type": "markdown",
      "source": [
        "# str = 'Hello'\n",
        "#\tReverse the string"
      ],
      "metadata": {
        "id": "ARxlRanCJrED"
      }
    },
    {
      "cell_type": "code",
      "source": [
        "str = 'Hello'\n",
        "str1=str[::-1]\n",
        "str1\n",
        "\t"
      ],
      "metadata": {
        "id": "TWayu5-NJxrY",
        "colab": {
          "base_uri": "https://localhost:8080/"
        },
        "outputId": "7f665ee3-e939-46be-c7d9-63a4198e68a9"
      },
      "execution_count": null,
      "outputs": [
        {
          "output_type": "execute_result",
          "data": {
            "application/vnd.google.colaboratory.intrinsic+json": {
              "type": "string"
            },
            "text/plain": [
              "'olleH'"
            ]
          },
          "metadata": {},
          "execution_count": 1
        }
      ]
    },
    {
      "cell_type": "code",
      "source": [
        "import math\n",
        "print(math.factorial(10))\n"
      ],
      "metadata": {
        "colab": {
          "base_uri": "https://localhost:8080/"
        },
        "id": "G6u_CcXbbp4p",
        "outputId": "1ecb1c2c-0511-4d74-898c-50baab847ed5"
      },
      "execution_count": null,
      "outputs": [
        {
          "output_type": "stream",
          "name": "stdout",
          "text": [
            "3628800\n"
          ]
        }
      ]
    },
    {
      "cell_type": "code",
      "source": [
        "import numpy as np\n",
        "l=[31,17,56,34,22,5,2,37,17]\n",
        "np.median(l)"
      ],
      "metadata": {
        "colab": {
          "base_uri": "https://localhost:8080/"
        },
        "id": "eJGrHNb_dg24",
        "outputId": "7e553d1f-7123-4d84-d6bb-04bf6ff85268"
      },
      "execution_count": null,
      "outputs": [
        {
          "output_type": "execute_result",
          "data": {
            "text/plain": [
              "22.0"
            ]
          },
          "metadata": {},
          "execution_count": 2
        }
      ]
    },
    {
      "cell_type": "code",
      "source": [
        "s=\"newmanof india\" \n",
        "list(s)\n"
      ],
      "metadata": {
        "colab": {
          "base_uri": "https://localhost:8080/"
        },
        "id": "E58WQydhfNEV",
        "outputId": "01f61e6f-4119-4e20-e103-c0cce0850ea9"
      },
      "execution_count": null,
      "outputs": [
        {
          "output_type": "execute_result",
          "data": {
            "text/plain": [
              "['n', 'e', 'w', 'm', 'a', 'n', 'o', 'f', ' ', 'i', 'n', 'd', 'i', 'a']"
            ]
          },
          "metadata": {},
          "execution_count": 3
        }
      ]
    },
    {
      "cell_type": "code",
      "source": [
        "dict1={\"Name\": \"John\",               \n",
        "             \"Email\": \"John@gmail.com\",\n",
        "             \"phone number\": \"9876543210\"}\n",
        "dict1.keys()"
      ],
      "metadata": {
        "colab": {
          "base_uri": "https://localhost:8080/"
        },
        "id": "uj9L8nIMgB37",
        "outputId": "a49d3cb8-7fbf-47f7-bd7d-7d26db07346a"
      },
      "execution_count": null,
      "outputs": [
        {
          "output_type": "execute_result",
          "data": {
            "text/plain": [
              "dict_keys(['Name', 'Email', 'phone number'])"
            ]
          },
          "metadata": {},
          "execution_count": 5
        }
      ]
    },
    {
      "cell_type": "code",
      "source": [
        "dict1['phone number']"
      ],
      "metadata": {
        "colab": {
          "base_uri": "https://localhost:8080/",
          "height": 35
        },
        "id": "qd0NnXtUhJwM",
        "outputId": "93321817-a0d0-4ad2-93e6-21f3971e453d"
      },
      "execution_count": null,
      "outputs": [
        {
          "output_type": "execute_result",
          "data": {
            "application/vnd.google.colaboratory.intrinsic+json": {
              "type": "string"
            },
            "text/plain": [
              "'9876543210'"
            ]
          },
          "metadata": {},
          "execution_count": 6
        }
      ]
    },
    {
      "cell_type": "code",
      "source": [
        "x = [2, 2, 3]\n",
        "y = [7, 10, 9]\n",
        "l=[a+b for a,b in zip(x,y)]\n",
        "l"
      ],
      "metadata": {
        "colab": {
          "base_uri": "https://localhost:8080/"
        },
        "id": "BykpdBH8jKmu",
        "outputId": "a0730c6a-33bc-4c8e-fef6-b0c4793af832"
      },
      "execution_count": null,
      "outputs": [
        {
          "output_type": "execute_result",
          "data": {
            "text/plain": [
              "[9, 12, 12]"
            ]
          },
          "metadata": {},
          "execution_count": 7
        }
      ]
    },
    {
      "cell_type": "code",
      "source": [
        "capitals = {\"USA\":\"Washington D.C.\", \"France\":\"Paris\", \"India\":\"New Delhi\"}\n",
        "capitals.keys()"
      ],
      "metadata": {
        "colab": {
          "base_uri": "https://localhost:8080/"
        },
        "id": "1IrDzcyRkOuF",
        "outputId": "ae2725a8-8a7c-46f8-80bf-be5fc14338f3"
      },
      "execution_count": null,
      "outputs": [
        {
          "output_type": "execute_result",
          "data": {
            "text/plain": [
              "dict_keys(['USA', 'France', 'India'])"
            ]
          },
          "metadata": {},
          "execution_count": 8
        }
      ]
    },
    {
      "cell_type": "code",
      "source": [
        "capitals.values()"
      ],
      "metadata": {
        "id": "LzlPZjxbkl5r",
        "outputId": "fb63cb87-fed1-4b19-ac0e-f7a70e6aea47",
        "colab": {
          "base_uri": "https://localhost:8080/"
        }
      },
      "execution_count": null,
      "outputs": [
        {
          "output_type": "execute_result",
          "data": {
            "text/plain": [
              "dict_values(['Washington D.C.', 'Paris', 'New Delhi'])"
            ]
          },
          "metadata": {},
          "execution_count": 9
        }
      ]
    }
  ]
}